{
 "cells": [
  {
   "cell_type": "code",
   "execution_count": 4,
   "metadata": {},
   "outputs": [
    {
     "name": "stdout",
     "output_type": "stream",
     "text": [
      "Enter the marks of sub 1 : 80\n",
      "Enter the marks of sub 2 : 70\n",
      "Enter the marks of sub 3 : 60\n",
      "Enter the marks of sub 4 : 50\n",
      "Enter the marks of sub 5 : 40\n",
      "__________________________\n",
      "Subject 1 Marks = 80 \n",
      "Subject 2 Marks = 70 \n",
      "Subject 3 Marks = 60 \n",
      "Subject 4 Marks = 50 \n",
      "Subject 5 Marks = 40 \n",
      "Total Marks = 500 \n",
      "Marks Obtained = 300 \n",
      "Percentage = 60.0 \n",
      "Grade = B \n",
      "\n"
     ]
    }
   ],
   "source": [
    "a = int(input(\"Enter the marks of sub 1 : \"))\n",
    "b = int(input(\"Enter the marks of sub 2 : \"))\n",
    "c = int(input(\"Enter the marks of sub 3 : \"))\n",
    "d = int(input(\"Enter the marks of sub 4 : \"))\n",
    "e = int(input(\"Enter the marks of sub 5 : \"))\n",
    "\n",
    "\n",
    "sum = a+b+c+d+e\n",
    "per = sum*100/500\n",
    "Grade = \"\"\n",
    "\n",
    "if per < 100 and per >= 80:\n",
    "    Grade = \"A+\"\n",
    "if per < 80 and per >= 70 :\n",
    "    Grade = \"A\"\n",
    "if per < 70 and per >= 60 :\n",
    "    Grade = \"B\"\n",
    "if per < 60 and per >= 50 :\n",
    "    Grade = \"C\"\n",
    "if per < 50 and per >= 40 :\n",
    "    Grade = \"D\"\n",
    "if per < 40 and per >= 0 :\n",
    "    Grade = \"Fail\"\n",
    "\n",
    "with open(\"MarkSheet.txt\", \"w\") as file:\n",
    "    file.write(\"Subject 1 Marks = \"+str(a)+\" \\n\")\n",
    "    file.write(\"Subject 2 Marks = \"+str(b)+\" \\n\")\n",
    "    file.write(\"Subject 3 Marks = \"+str(c)+\" \\n\")\n",
    "    file.write(\"Subject 4 Marks = \"+str(d)+\" \\n\")\n",
    "    file.write(\"Subject 5 Marks = \"+str(e)+\" \\n\")\n",
    "    file.write(\"Total Marks = \"+str(500)+\" \\n\")\n",
    "    file.write(\"Marks Obtained = \"+str(sum)+\" \\n\")\n",
    "    file.write(\"Percentage = \"+str(per)+\" \\n\")\n",
    "    file.write(\"Grade = \"+Grade+\" \\n\")\n",
    "\n",
    "with open(\"MarkSheet.txt\", \"r\") as f:\n",
    "    text_of_file = f.read()   \n",
    "    print(\"__________________________\")\n",
    "    print(text_of_file)\n"
   ]
  }
 ],
 "metadata": {
  "kernelspec": {
   "display_name": "Python 3",
   "language": "python",
   "name": "python3"
  },
  "language_info": {
   "codemirror_mode": {
    "name": "ipython",
    "version": 3
   },
   "file_extension": ".py",
   "mimetype": "text/x-python",
   "name": "python",
   "nbconvert_exporter": "python",
   "pygments_lexer": "ipython3",
   "version": "3.7.3"
  }
 },
 "nbformat": 4,
 "nbformat_minor": 2
}
