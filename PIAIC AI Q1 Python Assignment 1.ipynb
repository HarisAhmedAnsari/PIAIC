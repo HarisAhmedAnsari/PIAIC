{
 "cells": [
  {
   "cell_type": "code",
   "execution_count": 8,
   "metadata": {},
   "outputs": [
    {
     "name": "stdout",
     "output_type": "stream",
     "text": [
      "Input Your Radius : 0.5\n",
      "Area of Circle With Radius 0.5 is 0.7853981625\n"
     ]
    }
   ],
   "source": [
    "#1. Calculate Area of a Circle\n",
    "Pi = 3.14159265\n",
    "Radius = float(input(\"Input Your Radius : \"))\n",
    "Area = Pi * (Radius*Radius)\n",
    "print(\"Area of Circle With Radius\",Radius,\"is\",Area)"
   ]
  },
  {
   "cell_type": "code",
   "execution_count": 10,
   "metadata": {},
   "outputs": [
    {
     "name": "stdout",
     "output_type": "stream",
     "text": [
      "Enter The Number : -1\n",
      "The Given Number -1 is Negative.\n",
      "Enter The Number : 3\n",
      "The Given Number 3 is Positive.\n",
      "Enter The Number : 0\n",
      "The Given Number 0 is Zero.\n"
     ]
    }
   ],
   "source": [
    "#2. Check Number either positive, negative or zero\n",
    "#For Output 1\n",
    "Number = int(input(\"Enter The Number : \"))\n",
    "if Number < 0:\n",
    "    print(\"The Given Number\",Number,\"is Negative.\")\n",
    "elif Number > 0:\n",
    "    print(\"The Given Number\",Number,\"is Positive.\")\n",
    "else:\n",
    "    print(\"The Given Number\",Number,\"is Zero.\")\n",
    "\n",
    "#For Output 2\n",
    "Number = int(input(\"Enter The Number : \"))\n",
    "if Number < 0:\n",
    "    print(\"The Given Number\",Number,\"is Negative.\")\n",
    "elif Number > 0:\n",
    "    print(\"The Given Number\",Number,\"is Positive.\")\n",
    "else:\n",
    "    print(\"The Given Number\",Number,\"is Zero.\")\n",
    "\n",
    "#For Output 3    \n",
    "Number = int(input(\"Enter The Number : \"))\n",
    "if Number < 0:\n",
    "    print(\"The Given Number\",Number,\"is Negative.\")\n",
    "elif Number > 0:\n",
    "    print(\"The Given Number\",Number,\"is Positive.\")\n",
    "else:\n",
    "    print(\"The Given Number\",Number,\"is Zero.\")"
   ]
  },
  {
   "cell_type": "code",
   "execution_count": 11,
   "metadata": {},
   "outputs": [
    {
     "name": "stdout",
     "output_type": "stream",
     "text": [
      "Enter Numerator : 4\n",
      "Enter Denominator : 2\n",
      "Number 4 is Completely divisible by 2\n",
      "Enter Numerator : 7\n",
      "Enter Denominator : 4\n",
      "Number 7 is not Completely divisible by 4\n"
     ]
    }
   ],
   "source": [
    "#3. Divisibility Check of two numbers\n",
    "#For Output 1\n",
    "Numerator = int(input(\"Enter Numerator : \"))\n",
    "Denominator = int(input(\"Enter Denominator : \"))\n",
    "if Numerator % Denominator == 0:\n",
    "    print(\"Number\",Numerator,\"is Completely divisible by\",Denominator)\n",
    "else:\n",
    "    print(\"Number\",Numerator,\"is not Completely divisible by\",Denominator)\n",
    "    \n",
    "#For Output 2\n",
    "Numerator = int(input(\"Enter Numerator : \"))\n",
    "Denominator = int(input(\"Enter Denominator : \"))\n",
    "if Numerator % Denominator == 0:\n",
    "    print(\"Number\",Numerator,\"is Completely divisible by\",Denominator)\n",
    "else:\n",
    "    print(\"Number\",Numerator,\"is not Completely divisible by\",Denominator)"
   ]
  },
  {
   "cell_type": "code",
   "execution_count": 32,
   "metadata": {},
   "outputs": [
    {
     "name": "stdout",
     "output_type": "stream",
     "text": [
      "Enter First Date in (dd/mm/yy) format : 12/12/2018\n",
      "Enter Second Date in (dd/mm/yy) format : 16/12/2018\n",
      "There are 4 days in between 12/12/2018 and 16/12/2018\n"
     ]
    }
   ],
   "source": [
    "#4. Days Calculator\n",
    "from datetime import datetime\n",
    "\n",
    "d0 = datetime.strptime((input(\"Enter First Date in (dd/mm/yy) format : \")), \"%d/%m/%Y\").date()\n",
    "d1 = datetime.strptime((input(\"Enter Second Date in (dd/mm/yy) format : \")), \"%d/%m/%Y\").date()\n",
    "\n",
    "delta = d1 - d0\n",
    "\n",
    "print(\"There are\",delta.days,\"days in between\",d0.strftime(\"%d/%m/%Y\"),\"and\",d1.strftime(\"%d/%m/%Y\"))"
   ]
  },
  {
   "cell_type": "code",
   "execution_count": 33,
   "metadata": {},
   "outputs": [
    {
     "name": "stdout",
     "output_type": "stream",
     "text": [
      "Input Your Radius : 1\n",
      "Volume of the Sphere With Radius 1.0 is 4.1887902\n"
     ]
    }
   ],
   "source": [
    "#5. Calculate Volume of a sphere\n",
    "Pi = 3.14159265\n",
    "Radius = float(input(\"Input Your Radius : \"))\n",
    "Volume = (4/3) * Pi * (Radius*Radius)\n",
    "print(\"Volume of the Sphere With Radius\",Radius,\"is\",Volume)"
   ]
  },
  {
   "cell_type": "code",
   "execution_count": 34,
   "metadata": {},
   "outputs": [
    {
     "name": "stdout",
     "output_type": "stream",
     "text": [
      "Enter string: Hi\n",
      "How many copies of String you need : 4\n",
      "4 Copies of Hi are : HiHiHiHi\n"
     ]
    }
   ],
   "source": [
    "#6. Copy string n times\n",
    "string = str(input(\"Enter string: \"))\n",
    "n = int(input(\"How many copies of String you need : \"))\n",
    "if n > 0:\n",
    "    print(n,\"Copies of\", string , \"are :\" , string * n)        \n",
    "else:\n",
    "    print(\"you Entered Invalid number of Copies : \")"
   ]
  },
  {
   "cell_type": "code",
   "execution_count": 35,
   "metadata": {},
   "outputs": [
    {
     "name": "stdout",
     "output_type": "stream",
     "text": [
      "Enter Number: 4\n",
      "4 is Even\n",
      "Enter Number: 9\n",
      "9 is Odd\n"
     ]
    }
   ],
   "source": [
    "#7. Check if number is Even or Odd\n",
    "#For Output 1\n",
    "num = int(input(\"Enter Number: \"))\n",
    "if num % 2 == 0:\n",
    "    print(num, \"is Even\")\n",
    "else:\n",
    "    print(num, \"is Odd\")\n",
    "    \n",
    "#For Output 2\n",
    "num = int(input(\"Enter Number: \"))\n",
    "if num % 2 == 0:\n",
    "    print(num, \"is Even\")\n",
    "else:\n",
    "    print(num, \"is Odd\")"
   ]
  },
  {
   "cell_type": "code",
   "execution_count": 40,
   "metadata": {},
   "outputs": [
    {
     "name": "stdout",
     "output_type": "stream",
     "text": [
      "Enter a Character: A\n",
      "Letter A is Vowel.\n",
      "Enter a Character: e\n",
      "Letter e is Vowel.\n",
      "Enter a Character: N\n",
      "Letter N is not Vowel.\n"
     ]
    }
   ],
   "source": [
    "#8. Vowel Tester\n",
    "#For Output 1\n",
    "char = input(\"Enter a Character: \")\n",
    "c = char.lower()\n",
    "if c == \"a\" or c == \"e\" or c == \"i\" or c == \"o\" or c == \"u\" :\n",
    "    print(\"Letter\",char, \"is Vowel.\")\n",
    "else:\n",
    "    print(\"Letter\",char, \"is not Vowel.\")\n",
    "\n",
    "#For Output 2\n",
    "char = input(\"Enter a Character: \")\n",
    "c = char.lower()\n",
    "if c == \"a\" or c == \"e\" or c == \"i\" or c == \"o\" or c == \"u\" :\n",
    "    print(\"Letter\",char, \"is Vowel.\")\n",
    "else:\n",
    "    print(\"Letter\",char, \"is not Vowel.\")\n",
    "\n",
    "#For Output 3\n",
    "char = input(\"Enter a Character: \")\n",
    "c = char.lower()\n",
    "if c == \"a\" or c == \"e\" or c == \"i\" or c == \"o\" or c == \"u\" :\n",
    "    print(\"Letter\",char, \"is Vowel.\")\n",
    "else:\n",
    "    print(\"Letter\",char, \"is not Vowel.\")"
   ]
  },
  {
   "cell_type": "code",
   "execution_count": 42,
   "metadata": {},
   "outputs": [
    {
     "name": "stdout",
     "output_type": "stream",
     "text": [
      "Enter Magnitude of Triangle base : 4\n",
      "Enter Magnitude of Triangle Height : 4\n",
      "Area of Triangle Height 4 and Base 4 is 8.0\n"
     ]
    }
   ],
   "source": [
    "#9. Triangle area\n",
    "Base = int(input(\"Enter Magnitude of Triangle base : \"))\n",
    "Height = int(input(\"Enter Magnitude of Triangle Height : \"))\n",
    "Area = (Base * Height) / 2\n",
    "print(\"Area of Triangle Height\",Height,\"and Base\",Base,\"is\",Area)"
   ]
  },
  {
   "cell_type": "code",
   "execution_count": 49,
   "metadata": {},
   "outputs": [
    {
     "name": "stdout",
     "output_type": "stream",
     "text": [
      "Please Enter Principle Amount: 10000\n",
      "Please Enter rate of interest per year in %: 0.1\n",
      "Enter Number of years for Investment: 5\n",
      "After 5 years your principal amount 10000 over an interest rate of 0.1 % will be 16105.1\n"
     ]
    }
   ],
   "source": [
    "#10. Calculate Interest\n",
    "p = int(input(\"Please Enter Principle Amount: \"))\n",
    "r = float(input(\"Please Enter rate of interest per year in %: \"))\n",
    "y = int(input(\"Enter Number of years for Investment: \"))\n",
    "fv = p * (1+r)**y\n",
    "print (\"After\",y,\"years your principal amount\",p,\"over an interest rate of\",r,\"% will be\",round(fv,1))"
   ]
  },
  {
   "cell_type": "code",
   "execution_count": 58,
   "metadata": {},
   "outputs": [
    {
     "name": "stdout",
     "output_type": "stream",
     "text": [
      "Enter Co-ordinate for x1: 2\n",
      "Enter Co-ordinate for x2: 4\n",
      "Enter Co-ordinate for y1: 4\n",
      "Enter Co-ordinate for y2: 4\n",
      "Distance Between Points ( 2 , 4 ) and ( 4 , 4 ) is:  2.0\n"
     ]
    }
   ],
   "source": [
    "#11. Euclidean distance\n",
    "import math\n",
    "x1 = int(input(\"Enter Co-ordinate for x1: \"))\n",
    "x2 = int(input(\"Enter Co-ordinate for x2: \"))\n",
    "y1 = int(input(\"Enter Co-ordinate for y1: \"))\n",
    "y2 = int(input(\"Enter Co-ordinate for y2: \"))\n",
    "d = (x1 - x2)*(x1 - x2) + (y1 - y2)*(y1 - y2)\n",
    "e = math.sqrt(d)\n",
    "print(\"Distance Between Points (\", x1 , \",\" , x2 , \") and (\" ,y1, \",\" , y2 , \") is: \",e)"
   ]
  },
  {
   "cell_type": "code",
   "execution_count": 59,
   "metadata": {},
   "outputs": [
    {
     "name": "stdout",
     "output_type": "stream",
     "text": [
      "Enter Height in Feet : 5\n",
      "There are 152.4 cm in 5.0 ft\n"
     ]
    }
   ],
   "source": [
    "#12. Feet to Centimeter Converter\n",
    "ft = float(input(\"Enter Height in Feet : \"))\n",
    "print(\"There are\", ft * 30.48,\"cm\",\"in\",ft,\"ft\" )"
   ]
  },
  {
   "cell_type": "code",
   "execution_count": 62,
   "metadata": {},
   "outputs": [
    {
     "name": "stdout",
     "output_type": "stream",
     "text": [
      "Enter Height in Cm: 180\n",
      "Enter Weight in Kg: 75\n",
      "Your BMI is:  23.15\n"
     ]
    }
   ],
   "source": [
    "#13. BMI Calculator\n",
    "h = float(input(\"Enter Height in Cm: \"))\n",
    "w = float(input(\"Enter Weight in Kg: \"))\n",
    "bmi = round( w / (( h * 0.01 )**2) ,2 )\n",
    "print( \"Your BMI is: \", bmi )"
   ]
  },
  {
   "cell_type": "code",
   "execution_count": 64,
   "metadata": {},
   "outputs": [
    {
     "name": "stdout",
     "output_type": "stream",
     "text": [
      "Enter value of n : 5\n",
      "Sum of N Posistive Inetegers till 5 is :  15.0\n"
     ]
    }
   ],
   "source": [
    "#14. Sum of n Positive Integers\n",
    "n = int(input(\"Enter value of n : \"))\n",
    "sum = (n*(n+1)) / 2\n",
    "print(\"Sum of N Posistive Inetegers till\", n ,\"is : \", sum)"
   ]
  },
  {
   "cell_type": "code",
   "execution_count": 69,
   "metadata": {},
   "outputs": [
    {
     "name": "stdout",
     "output_type": "stream",
     "text": [
      "Enter a Number: 15\n",
      "Sum of 1 + 5 is : 6\n",
      "Enter a Number: 1234\n",
      "Sum of 1 + 2 + 3 + 4 is : 10\n"
     ]
    }
   ],
   "source": [
    "#15. Digits Sum of a Number\n",
    "#For Output 1\n",
    "n = str(input(\"Enter a Number: \"))\n",
    "sum = 0 \n",
    "for s in n:\n",
    "    sum += int(s)\n",
    "print(\"Sum of\", ' + '.join(map(str,n)) ,\"is :\",sum)\n",
    "\n",
    "#For Output 2\n",
    "n = str(input(\"Enter a Number: \"))\n",
    "sum = 0 \n",
    "for s in n:\n",
    "    sum += int(s)\n",
    "print(\"Sum of\", ' + '.join(map(str,n)) ,\"is :\",sum)"
   ]
  },
  {
   "cell_type": "code",
   "execution_count": 5,
   "metadata": {},
   "outputs": [
    {
     "name": "stdout",
     "output_type": "stream",
     "text": [
      "Enter a Decimal number: 5\n",
      "Binary Reperesentation of 5 is : 101\n",
      "Enter a Decimal number: 32\n",
      "Binary Reperesentation of 32 is : 100000\n"
     ]
    }
   ],
   "source": [
    "#16. Decimal to Binary Converter\n",
    "#For Output 1\n",
    "d = int(input(\"Enter a Decimal number: \"))\n",
    "b = bin(d)\n",
    "print(\"Binary Reperesentation of\",d,\"is :\", b[2:])\n",
    "\n",
    "#For Output 2\n",
    "d = int(input(\"Enter a Decimal number: \"))\n",
    "b = bin(d)\n",
    "print(\"Binary Reperesentation of\",d,\"is :\", b[2:])"
   ]
  },
  {
   "cell_type": "code",
   "execution_count": 7,
   "metadata": {},
   "outputs": [
    {
     "name": "stdout",
     "output_type": "stream",
     "text": [
      "Enter a Binary number : 1101\n",
      "Decimal Reperesentation of 1101 is : 13\n",
      "Enter a Binary number : 1001\n",
      "Decimal Reperesentation of 1001 is : 9\n"
     ]
    }
   ],
   "source": [
    "#17. Binary to Decimal Converter\n",
    "#For Output 1\n",
    "b = input(\"Enter a Binary number : \")\n",
    "d = int(b,2)\n",
    "print(\"Decimal Reperesentation of\",b,\"is :\",d)\n",
    "\n",
    "#For Output 2\n",
    "b = input(\"Enter a Binary number : \")\n",
    "d = int(b,2)\n",
    "print(\"Decimal Reperesentation of\",b,\"is :\",d)"
   ]
  },
  {
   "cell_type": "code",
   "execution_count": 1,
   "metadata": {},
   "outputs": [
    {
     "name": "stdout",
     "output_type": "stream",
     "text": [
      "Enter Text : QuickBrownFoxJumpsovertheDog\n",
      "Vowels : 9\n",
      "Consonants : 19\n"
     ]
    }
   ],
   "source": [
    "#18. Vowel and Consonants Counter\n",
    "a = input(\"Enter Text : \")\n",
    "c = a.lower()\n",
    "Vowel = 0\n",
    "Consonant = 0\n",
    "for x in c:\n",
    "    if x == \"a\" or x == \"e\" or x == \"i\" or x == \"o\" or x == \"u\":\n",
    "        Vowel += 1\n",
    "    else:\n",
    "        Consonant += 1\n",
    "print(\"Vowels :\", Vowel)\n",
    "print(\"Consonants :\", Consonant)"
   ]
  },
  {
   "cell_type": "code",
   "execution_count": 2,
   "metadata": {},
   "outputs": [
    {
     "name": "stdout",
     "output_type": "stream",
     "text": [
      "Enter Text : AHA\n",
      "Text is Palindrome. \n",
      "Enter Text : Hello\n",
      "Text is Not Palindrome. \n"
     ]
    }
   ],
   "source": [
    "#19. Palindrome tester\n",
    "#For Output 1\n",
    "string = str(input(\"Enter Text : \"))\n",
    "string = string.casefold()\n",
    "str_rev = reversed( string )\n",
    "\n",
    "if list( string ) == list( str_rev ):\n",
    "    print(\"Text is Palindrome. \")\n",
    "else:\n",
    "    print(\"Text is Not Palindrome. \")\n",
    "    \n",
    "    \n",
    "#For Output 2\n",
    "string = str(input(\"Enter Text : \"))\n",
    "string = string.casefold()\n",
    "str_rev = reversed( string )\n",
    "\n",
    "if list( string ) == list( str_rev ):\n",
    "    print(\"Text is Palindrome. \")\n",
    "else:\n",
    "    print(\"Text is Not Palindrome. \")"
   ]
  },
  {
   "cell_type": "code",
   "execution_count": 4,
   "metadata": {},
   "outputs": [
    {
     "name": "stdout",
     "output_type": "stream",
     "text": [
      "Enter Text : Python 3.2\n",
      "Numbers:             2\n",
      "Alphabets:           6\n",
      "Special Characters:  1\n",
      "Space:               1\n"
     ]
    }
   ],
   "source": [
    "#20. Count Alphabets, Numbers and Special Characters\n",
    "string = input(\"Enter Text : \")\n",
    "alpha = 0\n",
    "digit = 0\n",
    "sc = 0\n",
    "space = 0\n",
    "for x in string:\n",
    "    if int(ord(x)) >= 65 and int(ord(x)) <= 122:\n",
    "        alpha += 1\n",
    "    elif int(ord(x)) >= 48 and int(ord(x)) <= 57:\n",
    "        digit += 1\n",
    "    elif x == \" \":\n",
    "        space += 1\n",
    "    else:\n",
    "        sc += 1\n",
    "print(\"Numbers:            \",digit)\n",
    "print(\"Alphabets:          \",alpha)\n",
    "print(\"Special Characters: \",sc)\n",
    "print(\"Space:              \",space)"
   ]
  },
  {
   "cell_type": "code",
   "execution_count": 29,
   "metadata": {},
   "outputs": [
    {
     "name": "stdout",
     "output_type": "stream",
     "text": [
      "*  \n",
      "* *  \n",
      "* * *  \n",
      "* * * *  \n",
      "* * * * *  \n",
      "* * * *  \n",
      "* * *  \n",
      "* *  \n",
      "*  \n"
     ]
    }
   ],
   "source": [
    "#21. Write a Python program to construct the following pattern\n",
    "i = 6\n",
    "d = 0\n",
    "for x in range(1,i):\n",
    "    for y in range(1, x + 1):\n",
    "        print (\"*\" , end = \" \")\n",
    "    print(\" \")\n",
    "for r in range(4,d,-1):\n",
    "    for c in range(1, r + 1):\n",
    "        print (\"*\" , end = \" \")\n",
    "    print(\" \")"
   ]
  },
  {
   "cell_type": "code",
   "execution_count": 30,
   "metadata": {},
   "outputs": [
    {
     "name": "stdout",
     "output_type": "stream",
     "text": [
      "1  \n",
      "1 2  \n",
      "1 2 3  \n",
      "1 2 3 4  \n",
      "1 2 3 4 5  \n",
      "1 2 3 4  \n",
      "1 2 3  \n",
      "1 2  \n",
      "1  \n"
     ]
    }
   ],
   "source": [
    "#22. Write a Python program to construct the following pattern\n",
    "i = 6\n",
    "d = 0\n",
    "for x in range(1,i):\n",
    "    for y in range(1, x + 1):\n",
    "        print (y , end = \" \")\n",
    "    print(\" \")\n",
    "for r in range(4,d,-1):\n",
    "    for c in range(1, r + 1):\n",
    "        print (c , end = \" \")\n",
    "    print(\" \")"
   ]
  },
  {
   "cell_type": "code",
   "execution_count": 31,
   "metadata": {},
   "outputs": [
    {
     "name": "stdout",
     "output_type": "stream",
     "text": [
      " \n",
      "1  \n",
      "2 2  \n",
      "3 3 3  \n",
      "4 4 4 4  \n",
      "5 5 5 5 5  \n",
      "6 6 6 6 6 6  \n",
      "7 7 7 7 7 7 7  \n",
      "8 8 8 8 8 8 8 8  \n",
      "9 9 9 9 9 9 9 9 9  \n"
     ]
    }
   ],
   "source": [
    "#23. Write a Python program to construct the following pattern\n",
    "for i in range(10):\n",
    "    for f in range(i):\n",
    "        print(i, end = ' ')\n",
    "    print(\" \")"
   ]
  },
  {
   "cell_type": "code",
   "execution_count": null,
   "metadata": {},
   "outputs": [],
   "source": []
  }
 ],
 "metadata": {
  "kernelspec": {
   "display_name": "Python 3",
   "language": "python",
   "name": "python3"
  },
  "language_info": {
   "codemirror_mode": {
    "name": "ipython",
    "version": 3
   },
   "file_extension": ".py",
   "mimetype": "text/x-python",
   "name": "python",
   "nbconvert_exporter": "python",
   "pygments_lexer": "ipython3",
   "version": "3.7.3"
  }
 },
 "nbformat": 4,
 "nbformat_minor": 2
}
